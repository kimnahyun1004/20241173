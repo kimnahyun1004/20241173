{
  "nbformat": 4,
  "nbformat_minor": 0,
  "metadata": {
    "colab": {
      "provenance": []
    },
    "kernelspec": {
      "name": "python3",
      "display_name": "Python 3"
    },
    "language_info": {
      "name": "python"
    }
  },
  "cells": [
    {
      "cell_type": "code",
      "execution_count": 2,
      "metadata": {
        "id": "68ssyI3vVKRZ"
      },
      "outputs": [],
      "source": [
        "#LeetCode 225\n",
        "\n",
        "from collections import deque\n",
        "\n",
        "class MyStack:\n",
        "\n",
        "    def __init__(self):\n",
        "        self.q1 = deque()\n",
        "        self.q2 = deque()\n",
        "\n",
        "    def push(self, x: int) -> None:\n",
        "        self.q2.append(x)\n",
        "        while self.q1:\n",
        "            self.q2.append(self.q1.popleft())\n",
        "        self.q1, self.q2 = self.q2, self.q1\n",
        "\n",
        "    def pop(self) -> int:\n",
        "        return self.q1.popleft()\n",
        "\n",
        "    def top(self) -> int:\n",
        "        return self.q1[0]\n",
        "\n",
        "    def empty(self) -> bool:\n",
        "        return not self.q1\n",
        "\n"
      ]
    },
    {
      "cell_type": "code",
      "source": [
        "#LeetCode 232\n",
        "\n",
        "class MyQueue:\n",
        "\n",
        "    def __init__(self):\n",
        "        self.in_stack = []\n",
        "        self.out_stack = []\n",
        "\n",
        "    def push(self, x: int) -> None:\n",
        "        self.in_stack.append(x)\n",
        "\n",
        "    def pop(self) -> int:\n",
        "        self.peek()  # out_stack에 내용 없으면 이동\n",
        "        return self.out_stack.pop()\n",
        "\n",
        "    def peek(self) -> int:\n",
        "        if not self.out_stack:\n",
        "            while self.in_stack:\n",
        "                self.out_stack.append(self.in_stack.pop())\n",
        "        return self.out_stack[-1]\n",
        "\n",
        "    def empty(self) -> bool:\n",
        "        return not self.in_stack and not self.out_stack"
      ],
      "metadata": {
        "id": "Ewu6XC2qVzdR"
      },
      "execution_count": 4,
      "outputs": []
    },
    {
      "cell_type": "code",
      "source": [
        "#큐 연습문제\n",
        "\n",
        "1. 가질 수 없다. 부모 노드의 값이 자식 노드의 값보다 항상 크거나 같아야하기 때문에 루트에서 내려갈수록 값이 작아지거나 같아야한다.\n",
        "2. A[n-1]이 항상 작은 값을 가지는 것은 아니다. 단지 마지막에 삽입된 노드이기 때문에 값의 크기와는 상관이 없다.\n",
        "3. buildHeap()에서는 리프노드를 건너뛴다. 리프노드는 (n/2)~n-1 인덱스 번호에 존재하기 때문에 그냥 넘어가는 원소(힙의 노드) 수는 (n-1)-(n/2)+1=n/2이다.\n",
        "   답: n/2\n",
        "4. 최악의 경우는 루트 노드에서 시작해서 가장 아래까지 내려가는 경우이다. 이때의 시간은 Θ(log n)이고 최선의 경우는 현재 노드가 이미 자식보다 크거나, 자식이 없을 때로 즉, 한 번도 안내려가고 바로 종료하는 경우이다. 최선의 경우에서 시간은 Θ(1)이다.\n",
        "   답: 최악의 경우: Θ(log n)/ 최선의 경우: Θ(1)\n",
        "5. 그냥 리스트에서 pop() 해주면 되므로 힙의 맨 마지막 원소 삭제는 매우 간단한\n",
        "작업이다.\n",
        "6. 본문의 방식에서는 루트에서부터가 아니라, 가장 마지막 부모 노드부터 시작해서 위로 올라가고 시간복잡도는 Θ(n)이다. 학생이 질문한 방식에서는 원소가 최악의 경우 루트까지 올라갈 수 있어 전체 시간복잡도는 Θ(n log n)이다. 즉 본문에서 제시한 방법이 학생이 질문한 방법보다 더 효율적이다.\n",
        "7. 힙에서 어떤 원소의 값이 증가했다면 그 원소는 부모 노드보다 더 커졌을 가능성이 있다. 최대 힙에서는 ‘부모>= 자식’이 되어야 하므로 값이 증가한 경우, 그 노드에서 시작해서 위쪽으로 부모와 비교해가며 자리를 바꾸는 ‘스며오르기’를 수행하면 O(log n) 시간에 힙 속성을 복원할 수 있다."
      ],
      "metadata": {
        "id": "qCX8qxpwV9ox"
      },
      "execution_count": null,
      "outputs": []
    }
  ]
}